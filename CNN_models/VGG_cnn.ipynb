{
  "nbformat": 4,
  "nbformat_minor": 0,
  "metadata": {
    "colab": {
      "provenance": [],
      "authorship_tag": "ABX9TyNmerDbPDAgdlDT0vrf+5YQ",
      "include_colab_link": true
    },
    "kernelspec": {
      "name": "python3",
      "display_name": "Python 3"
    },
    "language_info": {
      "name": "python"
    }
  },
  "cells": [
    {
      "cell_type": "markdown",
      "metadata": {
        "id": "view-in-github",
        "colab_type": "text"
      },
      "source": [
        "<a href=\"https://colab.research.google.com/github/palexey2006/Ml-Engineering/blob/main/CNN_models/VGG_cnn.ipynb\" target=\"_parent\"><img src=\"https://colab.research.google.com/assets/colab-badge.svg\" alt=\"Open In Colab\"/></a>"
      ]
    },
    {
      "cell_type": "code",
      "execution_count": 2,
      "metadata": {
        "colab": {
          "base_uri": "https://localhost:8080/"
        },
        "id": "8mO2haA67mIV",
        "outputId": "03216a25-6ace-4c6f-d9e6-b55c981b07cf"
      },
      "outputs": [
        {
          "output_type": "stream",
          "name": "stdout",
          "text": [
            "torch.Size([1, 1000])\n"
          ]
        }
      ],
      "source": [
        "import torch\n",
        "import torch.nn as nn\n",
        "'''\n",
        "VGG-16(D) architecture\n",
        "its not really deep(only five layers)\n",
        "input always 224x224x3(rgb) image\n",
        "uses only 3x3 kernel filter(sometimes 1x1)\n",
        "uses maxpool 2x2 with stride=2\n",
        "Data augmented with Scale jittering aka copy paste\n",
        "'''\n",
        "\n",
        "\n",
        "VGG = [64,64,'M',128,128,'M',256,256,256,'M',512,512,512,'M',512,512,512,'M']\n",
        "class VGG_16(nn.Module):\n",
        "    def __init__(self, in_channels=3, num_classes=1000):\n",
        "        super(VGG_16,self).__init__()\n",
        "        self.in_channels = in_channels\n",
        "        self.conv_layers = self.create_conv_layer(VGG)\n",
        "        self.fcs = nn.Sequential(nn.Linear(512*7*7, 4096),\n",
        "                                 nn.ReLU(),\n",
        "                                 nn.Dropout(p=0.5),\n",
        "                                 nn.Linear(4096,4096),\n",
        "                                 nn.ReLU(),\n",
        "                                 nn.Dropout(p=0.5),\n",
        "                                 nn.Linear(4096,num_classes))\n",
        "\n",
        "    def forward(self,x):\n",
        "        x = self.conv_layers(x)\n",
        "        x = x.reshape(x.shape[0], -1)\n",
        "        x = self.fcs(x)\n",
        "        return x\n",
        "\n",
        "    def create_conv_layer(self,architecture):\n",
        "        layers = []\n",
        "        in_channels = self.in_channels\n",
        "        for val in architecture:\n",
        "            if type(val) == int:\n",
        "                out_channels = val\n",
        "                layers += [nn.Conv2d(in_channels,out_channels,kernel_size=(3,3), stride=(1,1), padding=(1,1)),\n",
        "                           nn.BatchNorm2d(val),\n",
        "                           nn.ReLU()]\n",
        "                in_channels = val\n",
        "            elif val == 'M':\n",
        "                layers += [nn.MaxPool2d(kernel_size=(2,2), stride=(2,2))]\n",
        "        return nn.Sequential(*layers)\n",
        "\n",
        "model = VGG_16(in_channels=3, num_classes=1000)\n",
        "x = torch.randn(1,3,224,224)\n",
        "print(model(x).shape)"
      ]
    }
  ]
}