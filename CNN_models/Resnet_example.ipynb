{
  "nbformat": 4,
  "nbformat_minor": 0,
  "metadata": {
    "colab": {
      "provenance": [],
      "gpuType": "V28",
      "authorship_tag": "ABX9TyOeJMQhKtiXMV92MDpR9MRA",
      "include_colab_link": true
    },
    "kernelspec": {
      "name": "python3",
      "display_name": "Python 3"
    },
    "language_info": {
      "name": "python"
    },
    "accelerator": "TPU"
  },
  "cells": [
    {
      "cell_type": "markdown",
      "metadata": {
        "id": "view-in-github",
        "colab_type": "text"
      },
      "source": [
        "<a href=\"https://colab.research.google.com/github/palexey2006/Ml-Engineering/blob/main/CNN_models/Resnet_example.ipynb\" target=\"_parent\"><img src=\"https://colab.research.google.com/assets/colab-badge.svg\" alt=\"Open In Colab\"/></a>"
      ]
    },
    {
      "cell_type": "code",
      "execution_count": 2,
      "metadata": {
        "id": "iMIup5BDLX1J",
        "colab": {
          "base_uri": "https://localhost:8080/"
        },
        "outputId": "ffef849e-2752-4d01-d062-ae1d02742cce"
      },
      "outputs": [
        {
          "output_type": "stream",
          "name": "stdout",
          "text": [
            "torch.Size([1, 1000])\n"
          ]
        }
      ],
      "source": [
        "import torch\n",
        "import torch.nn as nn\n",
        "import torchvision.transforms as transforms\n",
        "import torchvision\n",
        "import matplotlib.pyplot as plt\n",
        "from torch.utils.data import random_split\n",
        "import numpy as np\n",
        "import sys\n",
        "class block(nn.Module):\n",
        "    def __init__(self,in_channels, intermediate_channels,identity_downsample=None, stride=1):\n",
        "        super().__init__()\n",
        "        self.expansion = 4\n",
        "        self.cn1 = nn.Conv2d(in_channels, intermediate_channels, kernel_size=1, stride=1, padding=0, bias=False)\n",
        "        self.bn1 = nn.BatchNorm2d(intermediate_channels)\n",
        "        self.cn2 = nn.Conv2d(intermediate_channels, intermediate_channels, kernel_size=3,stride=stride, padding=1, bias=False)\n",
        "        self.bn2 = nn.BatchNorm2d(intermediate_channels)\n",
        "        self.cn3 = nn.Conv2d(intermediate_channels, intermediate_channels * self.expansion, kernel_size=1, stride=1, padding=0, bias=False)\n",
        "        self.bn3 = nn.BatchNorm2d(intermediate_channels * self.expansion)\n",
        "        self.relu = nn.ReLU()\n",
        "        self.downsample = identity_downsample\n",
        "        self.stride = stride\n",
        "    def forward(self, x):\n",
        "        identity = x.clone()\n",
        "        x = self.relu(self.bn1(self.cn1(x)))\n",
        "        x = self.relu(self.bn2(self.cn2(x)))\n",
        "        x = self.bn3(self.cn3(x))\n",
        "\n",
        "        if self.downsample is not None:\n",
        "            identity = self.downsample(identity)\n",
        "\n",
        "        x += identity\n",
        "        x = self.relu(x)\n",
        "        return x\n",
        "\n",
        "class ResNet(nn.Module):\n",
        "    def __init__(self, block, layers, image_channels, num_classes):\n",
        "        super(ResNet,self).__init__()\n",
        "        self.in_channels = 64\n",
        "        self.conv1 = nn.Conv2d(image_channels, 64, kernel_size=7, stride=2, padding=3, bias=False)\n",
        "        self.bn1 = nn.BatchNorm2d(64)\n",
        "        self.relu = nn.ReLU()\n",
        "        self.maxpool = nn.MaxPool2d(kernel_size=3, stride=2, padding=1)\n",
        "        self.layer1 = self.create_layer(block,layers[0],64,1)\n",
        "        self.layer2 = self.create_layer(block,layers[1],128,2)\n",
        "        self.layer3 = self.create_layer(block,layers[2],256,2)\n",
        "        self.layer4 = self.create_layer(block,layers[3],512,2)\n",
        "        self.avgpool = nn.AdaptiveAvgPool2d((1,1))\n",
        "        self.fc = nn.Linear(512 * 4, num_classes)\n",
        "\n",
        "    def forward(self,x):\n",
        "        x = self.maxpool(self.relu(self.bn1(self.conv1(x))))\n",
        "        x = self.layer1(x)\n",
        "        x = self.layer2(x)\n",
        "        x = self.layer3(x)\n",
        "        x = self.layer4(x)\n",
        "        x = self.avgpool(x)\n",
        "        x = torch.flatten(x, 1)\n",
        "        x = self.fc(x)\n",
        "        return x\n",
        "\n",
        "        #creating a layer\n",
        "\n",
        "    def create_layer(self,block, num_residual_blocks, intermediate_channels,stride):\n",
        "        identity_downsample = None\n",
        "        layers = []\n",
        "\n",
        "        if stride != 1 or self.in_channels != intermediate_channels * 4:\n",
        "            identity_downsample = nn.Sequential(nn.Conv2d(self.in_channels,\n",
        "                                                          intermediate_channels * 4,\n",
        "                                                          kernel_size=1,\n",
        "                                                          stride=stride),\n",
        "                                                          nn.BatchNorm2d(intermediate_channels * 4))\n",
        "        layers.append(block(self.in_channels,intermediate_channels,identity_downsample,stride))\n",
        "        self.in_channels = intermediate_channels * 4\n",
        "\n",
        "        for i in range(num_residual_blocks - 1):\n",
        "            layers.append(block(self.in_channels,intermediate_channels))\n",
        "\n",
        "        return nn.Sequential(*layers)\n",
        "\n",
        "\n",
        "\n",
        "def Resnet50(image_channels=3, num_classes=1000):\n",
        "    return ResNet(block=block, layers=[3,4,6,3],image_channels=image_channels, num_classes=num_classes)\n",
        "\n",
        "def Resnet101(image_channels=3, num_classes=1000):\n",
        "    return ResNet(block=block,layers=[3,4,23,3],image_channels=image_channels,num_classes=num_classes)\n",
        "\n",
        "def Resnet152(image_channels=3, num_classes=1000):\n",
        "    return ResNet(block=block,layers=[3,8,36,3],image_channels=image_channels, num_classes=num_classes)\n",
        "\n",
        "model = Resnet50()\n",
        "test = torch.randn((1,3,224,224))\n",
        "print(model(test).shape)\n"
      ]
    }
  ]
}