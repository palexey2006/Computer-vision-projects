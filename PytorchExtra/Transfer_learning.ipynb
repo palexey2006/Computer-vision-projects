{
  "cells": [
    {
      "cell_type": "markdown",
      "metadata": {
        "id": "view-in-github",
        "colab_type": "text"
      },
      "source": [
        "<a href=\"https://colab.research.google.com/github/palexey2006/Computer-vision-projects/blob/main/PytorchExtra/Transfer_learning.ipynb\" target=\"_parent\"><img src=\"https://colab.research.google.com/assets/colab-badge.svg\" alt=\"Open In Colab\"/></a>"
      ]
    },
    {
      "cell_type": "code",
      "execution_count": 9,
      "metadata": {
        "colab": {
          "base_uri": "https://localhost:8080/"
        },
        "id": "wFKvJITHT3XU",
        "outputId": "c7613b3a-6362-41dc-dc3b-73ae9a200263"
      },
      "outputs": [
        {
          "output_type": "stream",
          "name": "stderr",
          "text": [
            "/usr/local/lib/python3.11/dist-packages/torchvision/models/_utils.py:208: UserWarning: The parameter 'pretrained' is deprecated since 0.13 and may be removed in the future, please use 'weights' instead.\n",
            "  warnings.warn(\n",
            "/usr/local/lib/python3.11/dist-packages/torchvision/models/_utils.py:223: UserWarning: Arguments other than a weight enum or `None` for 'weights' are deprecated since 0.13 and may be removed in the future. The current behavior is equivalent to passing `weights=VGG16_Weights.IMAGENET1K_V1`. You can also use `weights=VGG16_Weights.DEFAULT` to get the most up-to-date weights.\n",
            "  warnings.warn(msg)\n",
            "Epoch [1/2]: 100%|██████████| 782/782 [05:49<00:00,  2.24it/s, loss=1.58]\n"
          ]
        },
        {
          "output_type": "stream",
          "name": "stdout",
          "text": [
            "\n"
          ]
        },
        {
          "output_type": "stream",
          "name": "stderr",
          "text": [
            "Epoch [2/2]: 100%|██████████| 782/782 [05:57<00:00,  2.18it/s, loss=0.979]\n"
          ]
        },
        {
          "output_type": "stream",
          "name": "stdout",
          "text": [
            "\n",
            "accuracy: 60.1300\n"
          ]
        }
      ],
      "source": [
        "import torch\n",
        "import torchvision\n",
        "import ssl\n",
        "import torchvision.transforms as transforms\n",
        "from tqdm import tqdm\n",
        "\n",
        "import torch.nn as nn\n",
        "ssl._create_default_https_context = ssl._create_unverified_context\n",
        "\n",
        "\n",
        "class Identity(nn.Module):\n",
        "    def __init__(self):\n",
        "        super(Identity,self).__init__()\n",
        "\n",
        "    def forward(self, x):\n",
        "        return x\n",
        "\n",
        "\n",
        "# loading pretrained model\n",
        "\n",
        "model = torchvision.models.vgg16(pretrained=True)\n",
        "#print(model)\n",
        "# to freeze previous layers we can use for loop\n",
        "# freezing previous layers helps a model to learn quicker\n",
        "for param in model.parameters():\n",
        "    param.requires_grad = False\n",
        "#print('after modifying the model')\n",
        "model.avgpool = Identity()\n",
        "model.classifier = nn.Sequential(\n",
        "    nn.Linear(512,100),\n",
        "    nn.Dropout(0.5),\n",
        "    nn.Linear(100,10),\n",
        ")\n",
        "#print(model)\n",
        "\n",
        "#Hyperparams\n",
        "\n",
        "learning_rate = 0.001\n",
        "epochs = 2\n",
        "batch_size = 64\n",
        "train_dataset = torchvision.datasets.CIFAR10(root='./data', train=True, download=True,transform=transforms.ToTensor())\n",
        "test_dataset = torchvision.datasets.CIFAR10(root='./data', train=False, download=True,transform=transforms.ToTensor())\n",
        "train_loader = torch.utils.data.DataLoader(dataset=train_dataset, batch_size=batch_size, shuffle=True)\n",
        "test_loader = torch.utils.data.DataLoader(dataset=test_dataset, batch_size=batch_size, shuffle=True)\n",
        "criterion = nn.CrossEntropyLoss()\n",
        "optimizer = torch.optim.Adam(model.parameters(), lr=learning_rate)\n",
        "total_step = len(train_loader)\n",
        "\n",
        "\n",
        "for epoch in range(epochs):\n",
        "    loop = tqdm(train_loader, leave=True)\n",
        "    for step, (images, labels) in enumerate(loop):\n",
        "        images = images\n",
        "        labels = labels\n",
        "        outputs = model(images)\n",
        "        loss = criterion(outputs, labels)\n",
        "        optimizer.zero_grad()\n",
        "        loss.backward()\n",
        "        optimizer.step()\n",
        "        loop.set_description(f'Epoch [{epoch + 1}/{epochs}]')\n",
        "        loop.set_postfix(loss=loss.item())\n",
        "    print('')\n",
        "\n",
        "\n",
        "model.eval()\n",
        "with torch.no_grad():\n",
        "    correct = 0\n",
        "    total = 0\n",
        "    for images, labels in test_loader:\n",
        "        images = images\n",
        "        labels = labels\n",
        "        outputs = model(images)\n",
        "        _, predicted = torch.max(outputs.data, 1)\n",
        "        total += labels.size(0)\n",
        "        correct += (predicted == labels).sum().item()\n",
        "    accuracy = 100 * correct / total\n",
        "    print(f'accuracy: {accuracy:.4f}')"
      ]
    }
  ],
  "metadata": {
    "accelerator": "GPU",
    "colab": {
      "gpuType": "T4",
      "provenance": [],
      "authorship_tag": "ABX9TyPMehEbqwUPxsCDUinbj/J+",
      "include_colab_link": true
    },
    "kernelspec": {
      "display_name": "Python 3",
      "name": "python3"
    },
    "language_info": {
      "name": "python"
    }
  },
  "nbformat": 4,
  "nbformat_minor": 0
}